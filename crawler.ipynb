{
 "cells": [
  {
   "cell_type": "code",
   "execution_count": 4,
   "id": "2183f78c",
   "metadata": {},
   "outputs": [
    {
     "name": "stderr",
     "output_type": "stream",
     "text": [
      "2022-03-20 20:18:25,855 INFO:Crawling: https://www.thsport.com/\n",
      "2022-03-20 20:18:26,291 INFO:Crawling: https://www.thsport.com/\n"
     ]
    },
    {
     "name": "stdout",
     "output_type": "stream",
     "text": [
      "Found the word \"กีฬา\" 4 times\n",
      "\n"
     ]
    },
    {
     "name": "stderr",
     "output_type": "stream",
     "text": [
      "2022-03-20 20:18:26,764 INFO:Crawling: https://www.thsport.com/member-login.html?facebook\n"
     ]
    },
    {
     "name": "stdout",
     "output_type": "stream",
     "text": [
      "Found the word \"กีฬา\" 4 times\n",
      "\n"
     ]
    },
    {
     "name": "stderr",
     "output_type": "stream",
     "text": [
      "2022-03-20 20:18:29,047 INFO:Crawling: https://www.thsport.com/member-register.html\n"
     ]
    },
    {
     "name": "stdout",
     "output_type": "stream",
     "text": [
      "Found the word \"กีฬา\" 0 times\n",
      "\n"
     ]
    },
    {
     "name": "stderr",
     "output_type": "stream",
     "text": [
      "2022-03-20 20:18:29,387 INFO:Crawling: https://www.thsport.com/news.html\n",
      "2022-03-20 20:18:29,592 INFO:Crawling: https://www.thsport.com/บอลไทย.html\n"
     ]
    },
    {
     "name": "stdout",
     "output_type": "stream",
     "text": [
      "Found the word \"กีฬา\" 1 times\n",
      "\n",
      "Found the word \"กีฬา\" 5 times\n",
      "\n"
     ]
    },
    {
     "name": "stderr",
     "output_type": "stream",
     "text": [
      "2022-03-20 20:18:30,382 INFO:Crawling: https://www.thsport.com/ข่าวฟุตบอลต่างประเทศ.html\n"
     ]
    },
    {
     "name": "stdout",
     "output_type": "stream",
     "text": [
      "Found the word \"กีฬา\" 3 times\n",
      "\n"
     ]
    },
    {
     "name": "stderr",
     "output_type": "stream",
     "text": [
      "2022-03-20 20:18:30,600 INFO:Crawling: https://www.thsport.com/ข่าว-NBA.html\n"
     ]
    },
    {
     "name": "stdout",
     "output_type": "stream",
     "text": [
      "Found the word \"กีฬา\" 3 times\n",
      "\n"
     ]
    },
    {
     "name": "stderr",
     "output_type": "stream",
     "text": [
      "2022-03-20 20:18:30,867 INFO:Crawling: https://www.thsport.com/ข่าว-NFL.html\n"
     ]
    },
    {
     "name": "stdout",
     "output_type": "stream",
     "text": [
      "Found the word \"กีฬา\" 3 times\n",
      "\n"
     ]
    },
    {
     "name": "stderr",
     "output_type": "stream",
     "text": [
      "2022-03-20 20:18:31,322 INFO:Crawling: https://www.thsport.com/column.html\n"
     ]
    },
    {
     "name": "stdout",
     "output_type": "stream",
     "text": [
      "Found the word \"กีฬา\" 3 times\n",
      "\n"
     ]
    },
    {
     "name": "stderr",
     "output_type": "stream",
     "text": [
      "2022-03-20 20:18:32,019 INFO:Crawling: https://www.thsport.com/analyst.html\n"
     ]
    },
    {
     "name": "stdout",
     "output_type": "stream",
     "text": [
      "Found the word \"กีฬา\" 2 times\n",
      "\n"
     ]
    }
   ],
   "source": [
    "import logging\n",
    "from urllib.parse import urljoin\n",
    "import requests\n",
    "from bs4 import BeautifulSoup\n",
    "import re\n",
    "\n",
    "logging.basicConfig(\n",
    "    format='%(asctime)s %(levelname)s:%(message)s',\n",
    "    level=logging.INFO)\n",
    "\n",
    "class Crawler:\n",
    "\n",
    "    def __init__(self, urls=[]):\n",
    "        self.visited_urls = []\n",
    "        self.urls_to_visit = urls\n",
    "        \n",
    "    def download_url(self, url):\n",
    "        return requests.get(url).text\n",
    "\n",
    "    def get_linked_urls(self, url, html):\n",
    "        soup = BeautifulSoup(html, 'html.parser')\n",
    "        for link in soup.find_all('a'):\n",
    "            path = link.get('href')\n",
    "            if path and path.startswith('/'):\n",
    "                path = urljoin(url, path)\n",
    "            yield path\n",
    "\n",
    "    def add_url_to_visit(self, url):\n",
    "        if url not in self.visited_urls and url not in self.urls_to_visit:\n",
    "            self.urls_to_visit.append(url)\n",
    "\n",
    "    def crawl(self, url):\n",
    "        html = self.download_url(url)\n",
    "        for url in self.get_linked_urls(url, html):\n",
    "            self.add_url_to_visit(url)\n",
    "\n",
    "        self.search(html)\n",
    "    def run(self):\n",
    "        i = 0\n",
    "        while self.urls_to_visit:\n",
    "            url = self.urls_to_visit.pop(0)\n",
    "            logging.info(f'Crawling: {url}')\n",
    "            try:\n",
    "                if i == 10:\n",
    "                    break\n",
    "                self.crawl(url)\n",
    "                i += 1\n",
    "            except Exception:\n",
    "                logging.exception(f'Failed to crawl: {url}')\n",
    "            finally:\n",
    "                self.visited_urls.append(url)\n",
    "\n",
    "    def search(self,html):\n",
    "        searched_word = \"กีฬา\"\n",
    "        soup = BeautifulSoup(html, 'html.parser')\n",
    "        results = soup.body.find_all(string=re.compile('.*{0}.*'.format(searched_word)), recursive=True)\n",
    "\n",
    "        print('Found the word \"{0}\" {1} times\\n'.format(searched_word, len(results)))\n",
    "\n",
    "        for content in results:\n",
    "            words = content.split()\n",
    "            for index, word in enumerate(words):\n",
    "                # If the content contains the search word twice or more this will fire for each occurence\n",
    "                if word == searched_word:\n",
    "                    print('Whole content: \"{0}\"'.format(content))\n",
    "                    before = None\n",
    "                    after = None\n",
    "                    # Check if it's a first word\n",
    "                    if index != 0:\n",
    "                        before = words[index-1]\n",
    "                    # Check if it's a last word\n",
    "                    if index != len(words)-1:\n",
    "                        after = words[index+1]\n",
    "                    print('\\tWord before: \"{0}\", word after: \"{1}\"'.format(before, after))\n",
    "if __name__ == '__main__':\n",
    "    Crawler(urls=['https://www.thsport.com/']).run()\n",
    "\n",
    " \n"
   ]
  },
  {
   "cell_type": "code",
   "execution_count": null,
   "id": "e68486da",
   "metadata": {},
   "outputs": [],
   "source": []
  }
 ],
 "metadata": {
  "kernelspec": {
   "display_name": "Python 3 (ipykernel)",
   "language": "python",
   "name": "python3"
  },
  "language_info": {
   "codemirror_mode": {
    "name": "ipython",
    "version": 3
   },
   "file_extension": ".py",
   "mimetype": "text/x-python",
   "name": "python",
   "nbconvert_exporter": "python",
   "pygments_lexer": "ipython3",
   "version": "3.9.7"
  }
 },
 "nbformat": 4,
 "nbformat_minor": 5
}
